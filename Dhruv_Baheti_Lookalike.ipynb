{
 "cells": [
  {
   "cell_type": "code",
   "execution_count": 1,
   "metadata": {},
   "outputs": [],
   "source": [
    "import pandas as pd\n",
    "import numpy as np\n",
    "from sklearn.metrics.pairwise import cosine_similarity\n",
    "from sklearn.preprocessing import StandardScaler\n",
    "\n",
    "customers = pd.read_csv(\"Customers.csv\")\n",
    "products = pd.read_csv(\"Products.csv\")\n",
    "transactions = pd.read_csv(\"Transactions.csv\")\n",
    "\n",
    "merged_data = transactions.merge(customers, on=\"CustomerID\").merge(products, on=\"ProductID\")\n",
    "\n",
    "total_spending = merged_data.groupby(\"CustomerID\")[\"TotalValue\"].sum()\n",
    "\n",
    "transaction_count = merged_data.groupby(\"CustomerID\")[\"TransactionID\"].nunique()\n",
    "\n",
    "product_categories = pd.get_dummies(merged_data[[\"CustomerID\", \"Category\"]], columns=[\"Category\"])\n",
    "category_features = product_categories.groupby(\"CustomerID\").sum()\n",
    "\n",
    "region_features = pd.get_dummies(customers.set_index(\"CustomerID\")[\"Region\"])\n",
    "\n",
    "customer_profile = pd.concat([total_spending, transaction_count, category_features, region_features], axis=1).fillna(0)\n",
    "customer_profile.columns = [\"TotalSpending\", \"TransactionCount\"] + list(category_features.columns) + list(region_features.columns)\n",
    "\n",
    "scaler = StandardScaler()\n",
    "customer_profile_scaled = scaler.fit_transform(customer_profile)\n",
    "\n",
    "similarity_matrix = cosine_similarity(customer_profile_scaled)\n",
    "similarity_df = pd.DataFrame(similarity_matrix, index=customer_profile.index, columns=customer_profile.index)\n",
    "\n",
    "def get_top_similar(customers_df, target_customer, top_n=3):\n",
    "    scores = customers_df.loc[target_customer].sort_values(ascending=False)\n",
    "    top_customers = scores.iloc[1:top_n + 1]  \n",
    "    return [(cust_id, score) for cust_id, score in zip(top_customers.index, top_customers.values)]\n",
    "\n",
    "lookalike_map = {}\n",
    "for customer in customers.query(\"CustomerID >= 'C0001' and CustomerID <= 'C0020'\")[\"CustomerID\"]:\n",
    "    lookalike_map[customer] = get_top_similar(similarity_df, customer)\n",
    "\n",
    "lookalike_data = [{\"CustomerID\": cust_id, \"Lookalikes\": lookalike_map[cust_id]} for cust_id in lookalike_map]\n",
    "lookalike_df = pd.DataFrame(lookalike_data)\n",
    "lookalike_df.to_csv(\"Dhruv_Baheti_Lookalike.csv\", index=False)"
   ]
  }
 ],
 "metadata": {
  "kernelspec": {
   "display_name": "Python 3",
   "language": "python",
   "name": "python3"
  },
  "language_info": {
   "codemirror_mode": {
    "name": "ipython",
    "version": 3
   },
   "file_extension": ".py",
   "mimetype": "text/x-python",
   "name": "python",
   "nbconvert_exporter": "python",
   "pygments_lexer": "ipython3",
   "version": "3.10.11"
  }
 },
 "nbformat": 4,
 "nbformat_minor": 2
}
